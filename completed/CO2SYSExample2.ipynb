{
 "cells": [
  {
   "cell_type": "markdown",
   "metadata": {},
   "source": [
    "# Converting conditions and pH scales\n",
    "\n",
    "*Based on **CO2SYSExample2.m** for MATLAB by Steven van Heuven.*\n",
    "\n",
    "A sample is measured in the lab to have a pH of 7.8 on the Total scale at 25 °C under atmospheric pressure.\n",
    "\n",
    "What would its pH have been in situ in the ocean: at 2 °C and 4000 dbar pressure (roughly 4000 m depth) on the Seawater scale?\n",
    "\n",
    "Additional properties:\n",
    "\n",
    "  * Alkalinity = 2400 μmol/kg\n",
    "  * Salinity = 35\n",
    "  * Total silicate = 50 μmol/kg\n",
    "  * Total phosphate = 50 μmol/kg\n",
    "  \n",
    "## Define conditions\n",
    "\n",
    "The first step is to define the input and output conditions that we want to use with `CO2SYS`.  In this case, we only need a single value for every variable:"
   ]
  },
  {
   "cell_type": "code",
   "execution_count": 1,
   "metadata": {},
   "outputs": [
    {
     "name": "stdout",
     "output_type": "stream",
     "text": [
      "Conditions have been defined!\n"
     ]
    }
   ],
   "source": [
    "# Define input and output conditions\n",
    "par1type = 1  # The first parameter supplied is of type \"1\", which means \"alkalinity\"\n",
    "par1 = 2400  # value of the first parameter\n",
    "par2type = 3  # The second parameter supplied is of type \"3\", which means \"pH\"\n",
    "par2 = 7.8  # value of the second parameter\n",
    "sal = 35  # Salinity of the sample\n",
    "tempin = 25  # Temperature at input conditions\n",
    "tempout = 2  # Temperature at output conditions\n",
    "presin = 0  # Pressure    at input conditions\n",
    "presout = 4000  # Pressure    at output conditions\n",
    "sil = 50  # Concentration of silicate  in the sample (in umol/kg)\n",
    "po4 = 2  # Concentration of phosphate in the sample (in umol/kg)\n",
    "pHscale = 1  # pH scale at which the input pH is reported (\"1\" means \"Total Scale\")\n",
    "k1k2c = 4  # Choice of H2CO3 and HCO3- dissociation constants K1 and K2 (\"4\" means \"Mehrbach refit\")\n",
    "kso4c = 1  # Choice of HSO4- dissociation constants KSO4 and boron:sal (\"1\" means \"Dickson\" and \"Uppstrom\")\n",
    "print('Conditions have been defined!')"
   ]
  },
  {
   "cell_type": "markdown",
   "metadata": {},
   "source": [
    "## Run `CO2SYS`\n",
    "\n",
    "Next, we run `CO2SYS` to solve the marine carbonate system under the input and output conditions and calculate related variables:"
   ]
  },
  {
   "cell_type": "code",
   "execution_count": 2,
   "metadata": {},
   "outputs": [
    {
     "name": "stdout",
     "output_type": "stream",
     "text": [
      "The in situ pH on the Seawater scale was: 7.990\n"
     ]
    }
   ],
   "source": [
    "# Import CO2SYS\n",
    "from PyCO2SYS import CO2SYS\n",
    "\n",
    "# Run CO2SYS\n",
    "CO2dict = CO2SYS(par1, par2, par1type, par2type, sal, tempin, tempout, presin, presout,\n",
    "    sil, po4, pHscale, k1k2c, kso4c)\n",
    "\n",
    "# Extract and print out the result\n",
    "pH_insitu_SWS = CO2dict['pHoutSWS']\n",
    "print('The in situ pH on the Seawater scale was: {:.3f}'.format(pH_insitu_SWS[0]))"
   ]
  },
  {
   "cell_type": "markdown",
   "metadata": {},
   "source": [
    "See [the documentation](https://pyco2sys.readthedocs.io/en/latest/co2sys/) for more detailed information about the inputs and outputs of the `CO2SYS` function."
   ]
  }
 ],
 "metadata": {
  "@webio": {
   "lastCommId": null,
   "lastKernelId": null
  },
  "kernelspec": {
   "display_name": "Python 3",
   "language": "python",
   "name": "python3"
  },
  "language_info": {
   "codemirror_mode": {
    "name": "ipython",
    "version": 3
   },
   "file_extension": ".py",
   "mimetype": "text/x-python",
   "name": "python",
   "nbconvert_exporter": "python",
   "pygments_lexer": "ipython3",
   "version": "3.7.6"
  }
 },
 "nbformat": 4,
 "nbformat_minor": 4
}
